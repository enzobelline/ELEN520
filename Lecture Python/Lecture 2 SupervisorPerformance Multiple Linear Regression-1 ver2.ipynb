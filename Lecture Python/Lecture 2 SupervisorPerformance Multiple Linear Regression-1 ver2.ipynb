{
 "cells": [
  {
   "cell_type": "raw",
   "metadata": {},
   "source": [
    "ELEN 520 Introduction to machine learning\n",
    "\n",
    "Radhika Grover\n",
    "Santa Clara University"
   ]
  },
  {
   "cell_type": "code",
   "execution_count": 1,
   "metadata": {},
   "outputs": [
    {
     "data": {
      "text/html": [
       "<div>\n",
       "<style scoped>\n",
       "    .dataframe tbody tr th:only-of-type {\n",
       "        vertical-align: middle;\n",
       "    }\n",
       "\n",
       "    .dataframe tbody tr th {\n",
       "        vertical-align: top;\n",
       "    }\n",
       "\n",
       "    .dataframe thead th {\n",
       "        text-align: right;\n",
       "    }\n",
       "</style>\n",
       "<table border=\"1\" class=\"dataframe\">\n",
       "  <thead>\n",
       "    <tr style=\"text-align: right;\">\n",
       "      <th></th>\n",
       "      <th>Y</th>\n",
       "      <th>X1</th>\n",
       "      <th>X2</th>\n",
       "      <th>X3</th>\n",
       "      <th>X4</th>\n",
       "      <th>X5</th>\n",
       "      <th>X6</th>\n",
       "    </tr>\n",
       "  </thead>\n",
       "  <tbody>\n",
       "    <tr>\n",
       "      <th>0</th>\n",
       "      <td>43</td>\n",
       "      <td>51</td>\n",
       "      <td>30</td>\n",
       "      <td>39</td>\n",
       "      <td>61</td>\n",
       "      <td>92</td>\n",
       "      <td>45</td>\n",
       "    </tr>\n",
       "    <tr>\n",
       "      <th>1</th>\n",
       "      <td>63</td>\n",
       "      <td>64</td>\n",
       "      <td>51</td>\n",
       "      <td>54</td>\n",
       "      <td>63</td>\n",
       "      <td>73</td>\n",
       "      <td>47</td>\n",
       "    </tr>\n",
       "    <tr>\n",
       "      <th>2</th>\n",
       "      <td>71</td>\n",
       "      <td>70</td>\n",
       "      <td>68</td>\n",
       "      <td>69</td>\n",
       "      <td>76</td>\n",
       "      <td>86</td>\n",
       "      <td>48</td>\n",
       "    </tr>\n",
       "    <tr>\n",
       "      <th>3</th>\n",
       "      <td>61</td>\n",
       "      <td>63</td>\n",
       "      <td>45</td>\n",
       "      <td>47</td>\n",
       "      <td>54</td>\n",
       "      <td>84</td>\n",
       "      <td>35</td>\n",
       "    </tr>\n",
       "    <tr>\n",
       "      <th>4</th>\n",
       "      <td>81</td>\n",
       "      <td>78</td>\n",
       "      <td>56</td>\n",
       "      <td>66</td>\n",
       "      <td>71</td>\n",
       "      <td>83</td>\n",
       "      <td>47</td>\n",
       "    </tr>\n",
       "  </tbody>\n",
       "</table>\n",
       "</div>"
      ],
      "text/plain": [
       "    Y  X1  X2  X3  X4  X5  X6\n",
       "0  43  51  30  39  61  92  45\n",
       "1  63  64  51  54  63  73  47\n",
       "2  71  70  68  69  76  86  48\n",
       "3  61  63  45  47  54  84  35\n",
       "4  81  78  56  66  71  83  47"
      ]
     },
     "execution_count": 1,
     "metadata": {},
     "output_type": "execute_result"
    }
   ],
   "source": [
    "import pandas as pd\n",
    "# read the file Boston.csv into pandas dataframe\n",
    "df = pd.read_csv('~/Documents/ELEN_520/SupervisorPerformance.csv')\n",
    "df.head() # view top portion of file"
   ]
  },
  {
   "cell_type": "markdown",
   "metadata": {},
   "source": [
    "# Regression using all predictors in the full model "
   ]
  },
  {
   "cell_type": "raw",
   "metadata": {},
   "source": [
    "H0 : (RM) no predictors\n",
    "H1  : (FM) Y~X0+X1+X2+X3+X4+X5+X6"
   ]
  },
  {
   "cell_type": "code",
   "execution_count": 2,
   "metadata": {},
   "outputs": [
    {
     "data": {
      "text/html": [
       "<table class=\"simpletable\">\n",
       "<caption>OLS Regression Results</caption>\n",
       "<tr>\n",
       "  <th>Dep. Variable:</th>            <td>Y</td>        <th>  R-squared:         </th> <td>   0.733</td>\n",
       "</tr>\n",
       "<tr>\n",
       "  <th>Model:</th>                   <td>OLS</td>       <th>  Adj. R-squared:    </th> <td>   0.663</td>\n",
       "</tr>\n",
       "<tr>\n",
       "  <th>Method:</th>             <td>Least Squares</td>  <th>  F-statistic:       </th> <td>   10.50</td>\n",
       "</tr>\n",
       "<tr>\n",
       "  <th>Date:</th>             <td>Thu, 27 Apr 2023</td> <th>  Prob (F-statistic):</th> <td>1.24e-05</td>\n",
       "</tr>\n",
       "<tr>\n",
       "  <th>Time:</th>                 <td>16:00:06</td>     <th>  Log-Likelihood:    </th> <td> -97.250</td>\n",
       "</tr>\n",
       "<tr>\n",
       "  <th>No. Observations:</th>      <td>    30</td>      <th>  AIC:               </th> <td>   208.5</td>\n",
       "</tr>\n",
       "<tr>\n",
       "  <th>Df Residuals:</th>          <td>    23</td>      <th>  BIC:               </th> <td>   218.3</td>\n",
       "</tr>\n",
       "<tr>\n",
       "  <th>Df Model:</th>              <td>     6</td>      <th>                     </th>     <td> </td>   \n",
       "</tr>\n",
       "<tr>\n",
       "  <th>Covariance Type:</th>      <td>nonrobust</td>    <th>                     </th>     <td> </td>   \n",
       "</tr>\n",
       "</table>\n",
       "<table class=\"simpletable\">\n",
       "<tr>\n",
       "      <td></td>         <th>coef</th>     <th>std err</th>      <th>t</th>      <th>P>|t|</th>  <th>[0.025</th>    <th>0.975]</th>  \n",
       "</tr>\n",
       "<tr>\n",
       "  <th>Intercept</th> <td>   10.7871</td> <td>   11.589</td> <td>    0.931</td> <td> 0.362</td> <td>  -13.187</td> <td>   34.761</td>\n",
       "</tr>\n",
       "<tr>\n",
       "  <th>X1</th>        <td>    0.6132</td> <td>    0.161</td> <td>    3.809</td> <td> 0.001</td> <td>    0.280</td> <td>    0.946</td>\n",
       "</tr>\n",
       "<tr>\n",
       "  <th>X2</th>        <td>   -0.0731</td> <td>    0.136</td> <td>   -0.538</td> <td> 0.596</td> <td>   -0.354</td> <td>    0.208</td>\n",
       "</tr>\n",
       "<tr>\n",
       "  <th>X3</th>        <td>    0.3203</td> <td>    0.169</td> <td>    1.901</td> <td> 0.070</td> <td>   -0.028</td> <td>    0.669</td>\n",
       "</tr>\n",
       "<tr>\n",
       "  <th>X4</th>        <td>    0.0817</td> <td>    0.221</td> <td>    0.369</td> <td> 0.715</td> <td>   -0.376</td> <td>    0.540</td>\n",
       "</tr>\n",
       "<tr>\n",
       "  <th>X5</th>        <td>    0.0384</td> <td>    0.147</td> <td>    0.261</td> <td> 0.796</td> <td>   -0.266</td> <td>    0.342</td>\n",
       "</tr>\n",
       "<tr>\n",
       "  <th>X6</th>        <td>   -0.2171</td> <td>    0.178</td> <td>   -1.218</td> <td> 0.236</td> <td>   -0.586</td> <td>    0.152</td>\n",
       "</tr>\n",
       "</table>\n",
       "<table class=\"simpletable\">\n",
       "<tr>\n",
       "  <th>Omnibus:</th>       <td> 2.386</td> <th>  Durbin-Watson:     </th> <td>   1.795</td>\n",
       "</tr>\n",
       "<tr>\n",
       "  <th>Prob(Omnibus):</th> <td> 0.303</td> <th>  Jarque-Bera (JB):  </th> <td>   1.255</td>\n",
       "</tr>\n",
       "<tr>\n",
       "  <th>Skew:</th>          <td>-0.081</td> <th>  Prob(JB):          </th> <td>   0.534</td>\n",
       "</tr>\n",
       "<tr>\n",
       "  <th>Kurtosis:</th>      <td> 2.011</td> <th>  Cond. No.          </th> <td>1.34e+03</td>\n",
       "</tr>\n",
       "</table><br/><br/>Notes:<br/>[1] Standard Errors assume that the covariance matrix of the errors is correctly specified.<br/>[2] The condition number is large, 1.34e+03. This might indicate that there are<br/>strong multicollinearity or other numerical problems."
      ],
      "text/plain": [
       "<class 'statsmodels.iolib.summary.Summary'>\n",
       "\"\"\"\n",
       "                            OLS Regression Results                            \n",
       "==============================================================================\n",
       "Dep. Variable:                      Y   R-squared:                       0.733\n",
       "Model:                            OLS   Adj. R-squared:                  0.663\n",
       "Method:                 Least Squares   F-statistic:                     10.50\n",
       "Date:                Thu, 27 Apr 2023   Prob (F-statistic):           1.24e-05\n",
       "Time:                        16:00:06   Log-Likelihood:                -97.250\n",
       "No. Observations:                  30   AIC:                             208.5\n",
       "Df Residuals:                      23   BIC:                             218.3\n",
       "Df Model:                           6                                         \n",
       "Covariance Type:            nonrobust                                         \n",
       "==============================================================================\n",
       "                 coef    std err          t      P>|t|      [0.025      0.975]\n",
       "------------------------------------------------------------------------------\n",
       "Intercept     10.7871     11.589      0.931      0.362     -13.187      34.761\n",
       "X1             0.6132      0.161      3.809      0.001       0.280       0.946\n",
       "X2            -0.0731      0.136     -0.538      0.596      -0.354       0.208\n",
       "X3             0.3203      0.169      1.901      0.070      -0.028       0.669\n",
       "X4             0.0817      0.221      0.369      0.715      -0.376       0.540\n",
       "X5             0.0384      0.147      0.261      0.796      -0.266       0.342\n",
       "X6            -0.2171      0.178     -1.218      0.236      -0.586       0.152\n",
       "==============================================================================\n",
       "Omnibus:                        2.386   Durbin-Watson:                   1.795\n",
       "Prob(Omnibus):                  0.303   Jarque-Bera (JB):                1.255\n",
       "Skew:                          -0.081   Prob(JB):                        0.534\n",
       "Kurtosis:                       2.011   Cond. No.                     1.34e+03\n",
       "==============================================================================\n",
       "\n",
       "Notes:\n",
       "[1] Standard Errors assume that the covariance matrix of the errors is correctly specified.\n",
       "[2] The condition number is large, 1.34e+03. This might indicate that there are\n",
       "strong multicollinearity or other numerical problems.\n",
       "\"\"\""
      ]
     },
     "execution_count": 2,
     "metadata": {},
     "output_type": "execute_result"
    }
   ],
   "source": [
    "import statsmodels.formula.api as smf\n",
    "# fit a model with all predictors \n",
    "lm_fit_full = smf.ols('Y~X1+X2+X3+X4+X5+X6', data=df).fit()\n",
    "lm_fit_full.summary()\n"
   ]
  },
  {
   "cell_type": "raw",
   "metadata": {},
   "source": [
    "# Calculate the F-statistic when full model has all predictors and reduced model has no predictors\n",
    "Compare it with the value of F-statistic obtained in the regression summary above\n",
    "H0 : (RM) no predictors\n",
    "H1  : (FM) Y~X0+X1+X2+X3+X4+X5+X6"
   ]
  },
  {
   "cell_type": "code",
   "execution_count": 3,
   "metadata": {},
   "outputs": [
    {
     "data": {
      "text/plain": [
       "10.502350651820429"
      ]
     },
     "execution_count": 3,
     "metadata": {},
     "output_type": "execute_result"
    }
   ],
   "source": [
    "import numpy as np\n",
    "df2 = pd.DataFrame([df.X1, df.X2, df.X3,df.X4, df.X5, df.X6]).T\n",
    "y_pred = lm_fit_full.predict(df2)\n",
    "SSE = np.sum(np.power(df.Y-y_pred, 2))\n",
    "SSR = np.sum(np.power(y_pred - np.mean(df.Y), 2))\n",
    "p = 6\n",
    "n = 30\n",
    "MSR = SSR/p\n",
    "MSE = SSE/(n-p-1)\n",
    "F = MSR/MSE\n",
    "F"
   ]
  },
  {
   "cell_type": "markdown",
   "metadata": {},
   "source": [
    "# Regression using two predictors in the full model "
   ]
  },
  {
   "cell_type": "raw",
   "metadata": {},
   "source": [
    "H0 : (RM) no predictors\n",
    "H1  : (FM) Y~X1+X3"
   ]
  },
  {
   "cell_type": "code",
   "execution_count": 4,
   "metadata": {
    "scrolled": true
   },
   "outputs": [
    {
     "data": {
      "text/html": [
       "<table class=\"simpletable\">\n",
       "<caption>OLS Regression Results</caption>\n",
       "<tr>\n",
       "  <th>Dep. Variable:</th>            <td>Y</td>        <th>  R-squared:         </th> <td>   0.708</td>\n",
       "</tr>\n",
       "<tr>\n",
       "  <th>Model:</th>                   <td>OLS</td>       <th>  Adj. R-squared:    </th> <td>   0.686</td>\n",
       "</tr>\n",
       "<tr>\n",
       "  <th>Method:</th>             <td>Least Squares</td>  <th>  F-statistic:       </th> <td>   32.74</td>\n",
       "</tr>\n",
       "<tr>\n",
       "  <th>Date:</th>             <td>Thu, 27 Apr 2023</td> <th>  Prob (F-statistic):</th> <td>6.06e-08</td>\n",
       "</tr>\n",
       "<tr>\n",
       "  <th>Time:</th>                 <td>16:00:06</td>     <th>  Log-Likelihood:    </th> <td> -98.569</td>\n",
       "</tr>\n",
       "<tr>\n",
       "  <th>No. Observations:</th>      <td>    30</td>      <th>  AIC:               </th> <td>   203.1</td>\n",
       "</tr>\n",
       "<tr>\n",
       "  <th>Df Residuals:</th>          <td>    27</td>      <th>  BIC:               </th> <td>   207.3</td>\n",
       "</tr>\n",
       "<tr>\n",
       "  <th>Df Model:</th>              <td>     2</td>      <th>                     </th>     <td> </td>   \n",
       "</tr>\n",
       "<tr>\n",
       "  <th>Covariance Type:</th>      <td>nonrobust</td>    <th>                     </th>     <td> </td>   \n",
       "</tr>\n",
       "</table>\n",
       "<table class=\"simpletable\">\n",
       "<tr>\n",
       "      <td></td>         <th>coef</th>     <th>std err</th>      <th>t</th>      <th>P>|t|</th>  <th>[0.025</th>    <th>0.975]</th>  \n",
       "</tr>\n",
       "<tr>\n",
       "  <th>Intercept</th> <td>    9.8709</td> <td>    7.061</td> <td>    1.398</td> <td> 0.174</td> <td>   -4.618</td> <td>   24.359</td>\n",
       "</tr>\n",
       "<tr>\n",
       "  <th>X1</th>        <td>    0.6435</td> <td>    0.118</td> <td>    5.432</td> <td> 0.000</td> <td>    0.400</td> <td>    0.887</td>\n",
       "</tr>\n",
       "<tr>\n",
       "  <th>X3</th>        <td>    0.2112</td> <td>    0.134</td> <td>    1.571</td> <td> 0.128</td> <td>   -0.065</td> <td>    0.487</td>\n",
       "</tr>\n",
       "</table>\n",
       "<table class=\"simpletable\">\n",
       "<tr>\n",
       "  <th>Omnibus:</th>       <td> 6.448</td> <th>  Durbin-Watson:     </th> <td>   1.958</td>\n",
       "</tr>\n",
       "<tr>\n",
       "  <th>Prob(Omnibus):</th> <td> 0.040</td> <th>  Jarque-Bera (JB):  </th> <td>   1.959</td>\n",
       "</tr>\n",
       "<tr>\n",
       "  <th>Skew:</th>          <td>-0.041</td> <th>  Prob(JB):          </th> <td>   0.375</td>\n",
       "</tr>\n",
       "<tr>\n",
       "  <th>Kurtosis:</th>      <td> 1.751</td> <th>  Cond. No.          </th> <td>    503.</td>\n",
       "</tr>\n",
       "</table><br/><br/>Notes:<br/>[1] Standard Errors assume that the covariance matrix of the errors is correctly specified."
      ],
      "text/plain": [
       "<class 'statsmodels.iolib.summary.Summary'>\n",
       "\"\"\"\n",
       "                            OLS Regression Results                            \n",
       "==============================================================================\n",
       "Dep. Variable:                      Y   R-squared:                       0.708\n",
       "Model:                            OLS   Adj. R-squared:                  0.686\n",
       "Method:                 Least Squares   F-statistic:                     32.74\n",
       "Date:                Thu, 27 Apr 2023   Prob (F-statistic):           6.06e-08\n",
       "Time:                        16:00:06   Log-Likelihood:                -98.569\n",
       "No. Observations:                  30   AIC:                             203.1\n",
       "Df Residuals:                      27   BIC:                             207.3\n",
       "Df Model:                           2                                         \n",
       "Covariance Type:            nonrobust                                         \n",
       "==============================================================================\n",
       "                 coef    std err          t      P>|t|      [0.025      0.975]\n",
       "------------------------------------------------------------------------------\n",
       "Intercept      9.8709      7.061      1.398      0.174      -4.618      24.359\n",
       "X1             0.6435      0.118      5.432      0.000       0.400       0.887\n",
       "X3             0.2112      0.134      1.571      0.128      -0.065       0.487\n",
       "==============================================================================\n",
       "Omnibus:                        6.448   Durbin-Watson:                   1.958\n",
       "Prob(Omnibus):                  0.040   Jarque-Bera (JB):                1.959\n",
       "Skew:                          -0.041   Prob(JB):                        0.375\n",
       "Kurtosis:                       1.751   Cond. No.                         503.\n",
       "==============================================================================\n",
       "\n",
       "Notes:\n",
       "[1] Standard Errors assume that the covariance matrix of the errors is correctly specified.\n",
       "\"\"\""
      ]
     },
     "execution_count": 4,
     "metadata": {},
     "output_type": "execute_result"
    }
   ],
   "source": [
    "import statsmodels.formula.api as smf\n",
    "\n",
    "lm_fit = smf.ols('Y~X1+X3', data=df).fit()\n",
    "lm_fit.summary()\n"
   ]
  },
  {
   "cell_type": "markdown",
   "metadata": {},
   "source": [
    "# Calculate the F-statistic when full model has two predictors (X1 and X3) and  reduced model has no predictors"
   ]
  },
  {
   "cell_type": "raw",
   "metadata": {},
   "source": [
    "Compare it with the value of F-statistic obtained in the regression summary above\n",
    "H0 : (RM) no predictors\n",
    "H1  : (FM) Y~X1+X3"
   ]
  },
  {
   "cell_type": "code",
   "execution_count": 5,
   "metadata": {},
   "outputs": [
    {
     "data": {
      "text/plain": [
       "32.735282823838844"
      ]
     },
     "execution_count": 5,
     "metadata": {},
     "output_type": "execute_result"
    }
   ],
   "source": [
    "import numpy as np\n",
    "df2 = pd.DataFrame([df.X1, df.X3]).T\n",
    "y_pred = lm_fit.predict(df2)\n",
    "SSE = np.sum(np.power(df.Y-y_pred, 2))\n",
    "SSR = np.sum(np.power(y_pred - np.mean(df.Y), 2))\n",
    "p = 2\n",
    "n = 30\n",
    "MSR = SSR/p\n",
    "MSE = SSE/(n-p-1)\n",
    "F = MSR/MSE\n",
    "F"
   ]
  },
  {
   "cell_type": "markdown",
   "metadata": {},
   "source": [
    "# Calculate the F-statistic when full model has all predictors and the reduced model has two predictors (X1 and X3) "
   ]
  },
  {
   "cell_type": "raw",
   "metadata": {},
   "source": [
    "H0 : (RM) Y~X1+X3\n",
    "H1  : (FM) Y~X0+X1+X2+X3+X4+X5+X6\n",
    "Note that the F-statistic for a reduced model with one or more predictors is not available in the regression summary;\n",
    "so we have to calculate it using the formula"
   ]
  },
  {
   "cell_type": "code",
   "execution_count": 7,
   "metadata": {},
   "outputs": [
    {
     "data": {
      "text/plain": [
       "0.5287028210778939"
      ]
     },
     "execution_count": 7,
     "metadata": {},
     "output_type": "execute_result"
    }
   ],
   "source": [
    "# Comparison of full (with p+1=7 parameters) and reduced (k=3 parameters) models\n",
    "lm_fit = smf.ols(formula='Y~X1+X2+X3+X4+X5+X6', data=df).fit()\n",
    "y_pred_full = lm_fit.predict(df)\n",
    "SSE_FM = np.sum(np.power(df.Y-y_pred_full, 2))\n",
    "SSE_FM # SSE for full model\n",
    "\n",
    "lm_fit = smf.ols('Y~X1+X3', data=df).fit()\n",
    "df2 = pd.DataFrame([df.X1, df.X3]).T\n",
    "y_pred = lm_fit.predict(df2)\n",
    "SSE_RM = np.sum(np.power(df.Y-y_pred, 2))\n",
    "SSE_RM # SSE for reduced model \n",
    "n = 30\n",
    "p = 6\n",
    "k = 3\n",
    "F = ((SSE_RM-SSE_FM)/(p+1-k))/(SSE_FM/(n-p-1))\n",
    "F"
   ]
  },
  {
   "cell_type": "code",
   "execution_count": null,
   "metadata": {},
   "outputs": [],
   "source": []
  }
 ],
 "metadata": {
  "kernelspec": {
   "display_name": "Python 3 (ipykernel)",
   "language": "python",
   "name": "python3"
  },
  "language_info": {
   "codemirror_mode": {
    "name": "ipython",
    "version": 3
   },
   "file_extension": ".py",
   "mimetype": "text/x-python",
   "name": "python",
   "nbconvert_exporter": "python",
   "pygments_lexer": "ipython3",
   "version": "3.10.9"
  }
 },
 "nbformat": 4,
 "nbformat_minor": 2
}
